{
 "cells": [
  {
   "cell_type": "code",
   "execution_count": 1,
   "id": "7c545ffc-f857-4a82-899e-0d4187575936",
   "metadata": {},
   "outputs": [],
   "source": [
    "import numpy as np\n",
    "import matplotlib.pyplot as plt\n",
    "import matplotlib.animation as animation"
   ]
  },
  {
   "cell_type": "code",
   "execution_count": 3,
   "id": "5c205763-4a4d-402f-bd67-8d7551008f28",
   "metadata": {},
   "outputs": [],
   "source": [
    "def sim_track(s_t, a_t) -> tuple[np.array, float]:\n",
    "    s_t1 = s_t + (a_t[0,0] - a_t[0,1])\n",
    "    return s_t1, 1-np.abs(s_t1)\n",
    "\n",
    "def grad(w, s_t, a_t, eps=0.001) -> np.array:\n",
    "    g = w * 0\n",
    "\n",
    "    # TODO: for each element in the action vector compute the gradient of each of the parameters\n",
    "    # with respect to the action component. Finite difference the value of the action vector element\n",
    "    with np.nditer(w, flags=['multi_index'], op_flags=['readwrite']) as it:\n",
    "        for wi_0 in it:\n",
    "            i = it.multi_index\n",
    "            w[i] += eps\n",
    "            _, wi_ri = sim(s_t, s_t @ w)\n",
    "            g[i], w[i] = (wi_ri - r0) / eps, wi_0\n",
    "\n",
    "    return g\n",
    "\n",
    "def run(s_t, W):\n",
    "    S,A,R = [],[],[]\n",
    "    for t in range(10):\n",
    "        a = W @ s_t\n",
    "        s_t_1, r_t = sim(s_t, a)\n",
    "        S.append(s_t.copy()); A.append(a); R.append(r_t[0,0])\n",
    "        s_t = s_t_1\n",
    "    return S,A,R"
   ]
  },
  {
   "cell_type": "code",
   "execution_count": 4,
   "id": "6b25352b-94c0-4fea-9a25-c15d74b7fb70",
   "metadata": {},
   "outputs": [
    {
     "ename": "NameError",
     "evalue": "name 'sim' is not defined",
     "output_type": "error",
     "traceback": [
      "\u001b[0;31m---------------------------------------------------------------------------\u001b[0m",
      "\u001b[0;31mNameError\u001b[0m                                 Traceback (most recent call last)",
      "Cell \u001b[0;32mIn[4], line 3\u001b[0m\n\u001b[1;32m      1\u001b[0m W \u001b[38;5;241m=\u001b[39m np\u001b[38;5;241m.\u001b[39mrandom\u001b[38;5;241m.\u001b[39mrandom((\u001b[38;5;241m2\u001b[39m,\u001b[38;5;241m1\u001b[39m))\n\u001b[1;32m      2\u001b[0m s_0 \u001b[38;5;241m=\u001b[39m np\u001b[38;5;241m.\u001b[39mrandom\u001b[38;5;241m.\u001b[39mrandom((\u001b[38;5;241m1\u001b[39m,\u001b[38;5;241m1\u001b[39m))\n\u001b[0;32m----> 3\u001b[0m _,_,R \u001b[38;5;241m=\u001b[39m \u001b[43mrun\u001b[49m\u001b[43m(\u001b[49m\u001b[43ms_0\u001b[49m\u001b[38;5;241;43m.\u001b[39;49m\u001b[43mcopy\u001b[49m\u001b[43m(\u001b[49m\u001b[43m)\u001b[49m\u001b[43m,\u001b[49m\u001b[43m \u001b[49m\u001b[43mW\u001b[49m\u001b[43m)\u001b[49m\n\u001b[1;32m      5\u001b[0m \u001b[38;5;66;03m# show the reward traj before optimizing\u001b[39;00m\n\u001b[1;32m      6\u001b[0m plt\u001b[38;5;241m.\u001b[39mplot(R)\n",
      "Cell \u001b[0;32mIn[3], line 23\u001b[0m, in \u001b[0;36mrun\u001b[0;34m(s_t, W)\u001b[0m\n\u001b[1;32m     21\u001b[0m \u001b[38;5;28;01mfor\u001b[39;00m t \u001b[38;5;129;01min\u001b[39;00m \u001b[38;5;28mrange\u001b[39m(\u001b[38;5;241m10\u001b[39m):\n\u001b[1;32m     22\u001b[0m     a \u001b[38;5;241m=\u001b[39m W \u001b[38;5;241m@\u001b[39m s_t\n\u001b[0;32m---> 23\u001b[0m     s_t_1, r_t \u001b[38;5;241m=\u001b[39m \u001b[43msim\u001b[49m(s_t, a)\n\u001b[1;32m     24\u001b[0m     S\u001b[38;5;241m.\u001b[39mappend(s_t\u001b[38;5;241m.\u001b[39mcopy()); A\u001b[38;5;241m.\u001b[39mappend(a); R\u001b[38;5;241m.\u001b[39mappend(r_t[\u001b[38;5;241m0\u001b[39m,\u001b[38;5;241m0\u001b[39m])\n\u001b[1;32m     25\u001b[0m     s_t \u001b[38;5;241m=\u001b[39m s_t_1\n",
      "\u001b[0;31mNameError\u001b[0m: name 'sim' is not defined"
     ]
    }
   ],
   "source": [
    "W = np.random.random((2,1))\n",
    "s_0 = np.random.random((1,1))\n",
    "_,_,R = run(s_0.copy(), W)\n",
    "\n",
    "# show the reward traj before optimizing\n",
    "plt.plot(R)\n",
    "plt.title(\"Before Optimization\")\n",
    "plt.xlabel(\"Time-step\")\n",
    "plt.ylabel(\"Reward\")\n",
    "plt.show()\n",
    "print(W)\n",
    "S = [np.random.random((1,1)) for _ in range(10)]\n",
    "a = 0.1\n",
    "for e in range(100):\n",
    "    g = W * 0\n",
    "    for s in S:\n",
    "        g += grad(W, s)\n",
    "    g /= len(S)\n",
    "\n",
    "    W += g * a\n",
    "print(W)\n",
    "_,_,R = run(s_0.copy(), W)\n",
    "plt.title(\"After Optimization\")\n",
    "plt.xlabel(\"Time-step\")\n",
    "plt.ylabel(\"Reward\")\n",
    "plt.plot(R)\n",
    "plt.show()"
   ]
  },
  {
   "cell_type": "code",
   "execution_count": null,
   "id": "9007a7e3-94f4-46ec-850b-35e45256cf83",
   "metadata": {},
   "outputs": [],
   "source": [
    "W = np.random.random((1,2))\n",
    "s_0 = np.random.random((1,1))\n",
    "_,_,R = run(s_0.copy(), W)\n",
    "\n",
    "def sim_puck\n",
    "\n",
    "# show the reward traj before optimizing\n",
    "plt.plot(R)\n",
    "plt.title(\"Before Optimization\")\n",
    "plt.xlabel(\"Time-step\")\n",
    "plt.ylabel(\"Reward\")\n",
    "plt.show()\n",
    "print(W)\n",
    "S = [np.random.random((1,1)) for _ in range(10)]\n",
    "a = 0.1\n",
    "for e in range(100):\n",
    "    g = W * 0\n",
    "    for s in S:\n",
    "        g += grad(W, s)\n",
    "    g /= len(S)\n",
    "\n",
    "    W += g * a\n",
    "print(W)\n",
    "_,_,R = run(s_0.copy(), W)\n",
    "plt.title(\"After Optimization\")\n",
    "plt.xlabel(\"Time-step\")\n",
    "plt.ylabel(\"Reward\")\n",
    "plt.plot(R)\n",
    "plt.show()"
   ]
  }
 ],
 "metadata": {
  "kernelspec": {
   "display_name": "Python 3 (ipykernel)",
   "language": "python",
   "name": "python3"
  },
  "language_info": {
   "codemirror_mode": {
    "name": "ipython",
    "version": 3
   },
   "file_extension": ".py",
   "mimetype": "text/x-python",
   "name": "python",
   "nbconvert_exporter": "python",
   "pygments_lexer": "ipython3",
   "version": "3.12.3"
  }
 },
 "nbformat": 4,
 "nbformat_minor": 5
}
